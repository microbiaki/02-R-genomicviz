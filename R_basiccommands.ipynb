{
 "cells": [
  {
   "cell_type": "markdown",
   "metadata": {},
   "source": [
    "A few R commands that might become handy \n",
    "```r\n",
    "setwd(\"path\") #set you working directory\n",
    "getwd() #get your working directory\n",
    "list.files() #list files\n",
    "dir.create() #make directory\n",
    "ls() #list R objects\n",
    "dim() # dimension of an object\n",
    "class() #check what type of data in contained within a variable\n",
    "unzip() #unzip\n",
    "download.file(url,desinationname) #download\n",
    "read.table(\"path\", sep=\"\\t\", header=TRUE) #read table\n",
    "write.table(name, \"outname.tsv\", sep=\"\\t\", row.names=F, quote=FALSE) #write table\n",
    "```"
   ]
  },
  {
   "cell_type": "code",
   "execution_count": null,
   "metadata": {},
   "outputs": [],
   "source": []
  }
 ],
 "metadata": {
  "kernelspec": {
   "display_name": "R",
   "language": "R",
   "name": "ir"
  },
  "language_info": {
   "codemirror_mode": "r",
   "file_extension": ".r",
   "mimetype": "text/x-r-source",
   "name": "R",
   "pygments_lexer": "r",
   "version": "3.6.3"
  }
 },
 "nbformat": 4,
 "nbformat_minor": 4
}
