{
 "cells": [
  {
   "cell_type": "markdown",
   "metadata": {},
   "source": [
    "# WHY SHOULD YOU CARE ABOUT GENOMICS DATA?"
   ]
  },
  {
   "cell_type": "markdown",
   "metadata": {},
   "source": [
    "![care](https://imgs.xkcd.com/comics/i_could_care_less.png)"
   ]
  },
  {
   "cell_type": "markdown",
   "metadata": {},
   "source": [
    "If you only care about the circulation patterns of ocean currents* or air temperature, genomic data might not be useful for your research [*but microbes get distributed by currents so thanks for the ride]. \n",
    "\n",
    "If you work on biophysical interactions in the ocean, ocean productivity, distribution of nutrients etc, your research will grately benefit from implementing a genomic component.\n",
    "\n",
    "\n"
   ]
  },
  {
   "cell_type": "markdown",
   "metadata": {
    "jupyter": {
     "source_hidden": true
    }
   },
   "source": [
    "  "
   ]
  },
  {
   "cell_type": "markdown",
   "metadata": {},
   "source": [
    "## Genomic data are available for oceanographers\n",
    "\n",
    "- **Time Series**\n",
    "- **Global Expeditions**  \n",
    "- **Remote Access Samplers**\n",
    "- **Genomic sensors**  \n",
    "Environmental Sample Processor  \n",
    "https://www.mbari.org/science/upper-ocean-systems/ecogenomic-sensing/genomic-sensors-esp/  \n",
    "https://www.mbari.org/technology/emerging-current-tools/instruments/environmental-sample-processor-esp/esp-how-it-works/  \n",
    "https://www.ncbi.nlm.nih.gov/pmc/articles/PMC3148215/  \n",
    "\n",
    "\n"
   ]
  },
  {
   "cell_type": "markdown",
   "metadata": {},
   "source": [
    "## Wealth of genomic oceanographic data\n",
    "\n",
    "BUT\n",
    "* **Challenging to find them**\n",
    "* **Most of the cases are in raw format (sequences)**\n",
    "* **Field lag; biologists haven't explored their full potential**  \n",
    "\n",
    "\n",
    "\n"
   ]
  },
  {
   "cell_type": "markdown",
   "metadata": {},
   "source": [
    "## Disclaimers\n",
    "- 1: There are MANY different types of omics data. Due to time constrains, for this tutorial, you will be working with the end result of analysis of the sequences. If you want to start from scratch i.e. from the raw sequences you can try a variety of amazing tutorials (some in R other in python; no python knowledge is required to process the sequencing data)\n",
    "\n",
    "- 2: There are MANY different ways to process tables and plot data. There are now numerous packages in R dedicated in analysis of amplicon datasets. The code I use might not be the prettier or most efficient. And it is a result of code exchange among several people including Dr. Julia Brown (https://github.com/juliambrosman), Dr. Sarah Hu (https://github.com/shu251), Dr. Liz Suter (https://github.com/lizsuter/) and many others that I might be forgeting.\n",
    "\n",
    "- 3: If you are an experienced user of R, this tutorial might be boring for you. Use it as a chance to think big e.g. how we can combine marine microbial ecology (and molecular macroecology) with oceanography. My goal for this 45min is to create a discussion on this."
   ]
  },
  {
   "cell_type": "markdown",
   "metadata": {},
   "source": [
    "## Amplicon (or iTag) data  \n",
    "- The most common type of environmental omics data\n",
    "- One small fragment of the genome is targeted, usually the Small SubUnit (SSU) gene which is indicative of the identity of the microorganisms\n",
    "- The absolute numbers of the reads that correspond to one organism are not meanigful (the absolute number will change depending on the sequencing effort)"
   ]
  },
  {
   "cell_type": "markdown",
   "metadata": {},
   "source": [
    "## Additional resources\n",
    "**Amplicon processing:**\n",
    "- https://astrobiomike.github.io/amplicon/\n",
    "- https://benjjneb.github.io/dada2/tutorial.html\n",
    "- https://docs.qiime2.org/2020.6/\n",
    "\n",
    "**Bioinformatics Virtual Coordination Network** (all you want to know on processing all types of genomic data and much much more):\n",
    "- https://biovcnet.github.io"
   ]
  },
  {
   "cell_type": "code",
   "execution_count": null,
   "metadata": {},
   "outputs": [],
   "source": []
  }
 ],
 "metadata": {
  "kernelspec": {
   "display_name": "R",
   "language": "R",
   "name": "ir"
  },
  "language_info": {
   "codemirror_mode": "r",
   "file_extension": ".r",
   "mimetype": "text/x-r-source",
   "name": "R",
   "pygments_lexer": "r",
   "version": "3.6.3"
  }
 },
 "nbformat": 4,
 "nbformat_minor": 4
}
